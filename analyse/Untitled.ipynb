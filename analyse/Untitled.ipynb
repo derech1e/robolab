{
 "cells": [
  {
   "cell_type": "markdown",
   "id": "79dcf47e-a92f-4ea8-9d4b-5ddd6681a6cf",
   "metadata": {},
   "source": [
    "## Interactive Plotting of RoboLab Odometry data\n"
   ]
  },
  {
   "cell_type": "code",
   "execution_count": 13,
   "id": "affebde0-c246-49a5-a717-63899e2b61d5",
   "metadata": {},
   "outputs": [],
   "source": [
    "from __future__ import print_function\n",
    "%matplotlib ipympl\n",
    "from typing import Tuple\n",
    "import numpy as np\n",
    "\n",
    "import math\n",
    "from math import sin, cos\n",
    "\n",
    "from os import listdir\n",
    "from os.path import isfile, join\n",
    "from ipywidgets import interact, interactive, fixed, interact_manual\n",
    "import ipywidgets as widgets\n",
    "import matplotlib.pyplot as plt"
   ]
  },
  {
   "cell_type": "markdown",
   "id": "32ee16ef-26ee-4493-a5bc-80c43c3e960b",
   "metadata": {},
   "source": [
    "### My (defenetly not optimal) impementation of the Odometry function\n",
    "Only thing to change to get any odometry function, working in intervals of motor positionsto, to work, should be to change to numpy arrays, and if you update the coordinats append to numpy array and return them"
   ]
  },
  {
   "cell_type": "code",
   "execution_count": 14,
   "id": "a0e4080a-5fa5-4482-9863-b1f49a232460",
   "metadata": {},
   "outputs": [],
   "source": [
    "#----------- Constants ----------------\n",
    "a = 10\n",
    "# MAGIC_VALUE = 0.9945 \n",
    "VALUE = 1\n",
    "rot = 0.04884\n",
    "\n",
    "\n",
    "#----------- Odometry function ----------------\n",
    "\n",
    "def get_diff_in_cm(ROT_TO_CM, magic_value, tu1:Tuple[int,int], tu2:Tuple[int,int]) -> Tuple[float, float]:\n",
    "    return((tu1[0]-tu2[0]) * ROT_TO_CM , (tu1[1]-tu2[1]) * ROT_TO_CM* magic_value)\n",
    "\n",
    "\n",
    "\n",
    "# this is the odomety function of the rover, using nupy array for plotting\n",
    "\n",
    "def update_position(drive_data, AXLE_LENGTH, ROT_TO_CM, MAGIC_VALUE,\n",
    "                    local_x_coordinat = 0, local_y_coordinat = 0, local_oriantation:float = 0):\n",
    "    list_of_coords = []\n",
    "    list_np = np.zeros((len(drive_data), 2))\n",
    "    alpha = 0\n",
    "    for i in range(15, len(drive_data)-5):\n",
    "        dl, dr = get_diff_in_cm(ROT_TO_CM,MAGIC_VALUE, drive_data[i+1], drive_data[i])\n",
    "\n",
    "        if dl == dr:\n",
    "            alpha = 0\n",
    "            s = dl\n",
    "        else:\n",
    "            alpha = (dr - dl) / AXLE_LENGTH\n",
    "            s = AXLE_LENGTH * (dr + dl) / (dr - dl) * math.sin((dr - dl) / (2 * AXLE_LENGTH))\n",
    "\n",
    "\n",
    "        local_oriantation = local_oriantation + alpha\n",
    "            # print(alpha)\n",
    "\n",
    "        delta_x = s * (-1) * sin(local_oriantation)\n",
    "        delta_y = s * cos(local_oriantation)\n",
    "\n",
    "\n",
    "        local_x_coordinat += delta_x\n",
    "        local_y_coordinat += delta_y\n",
    "\n",
    "        list_of_coords.append((local_x_coordinat/50, local_y_coordinat/50))\n",
    "        list_np[i] = [local_x_coordinat, local_y_coordinat]\n",
    "    return np.array(list_of_coords)"
   ]
  },
  {
   "cell_type": "markdown",
   "id": "5706a572-88f4-4d57-8cdc-88c84c1b298e",
   "metadata": {},
   "source": [
    "### Plotting function\n",
    "files should be saved in the format of pos_x-pos_y-oriantation (problem with negative values needs to be fixed some day) in folder specified in test_data_folder"
   ]
  },
  {
   "cell_type": "code",
   "execution_count": 15,
   "id": "83be86ad-edb2-4eb1-90c0-512e1d6d1664",
   "metadata": {},
   "outputs": [
    {
     "data": {
      "application/vnd.jupyter.widget-view+json": {
       "model_id": "e17d7e87a6b34ac0a8d4549c389cd9cb",
       "version_major": 2,
       "version_minor": 0
      },
      "text/plain": [
       "interactive(children=(FloatSlider(value=10.3, description='A', max=20.0, min=5.0, readout_format='.1f'), Float…"
      ]
     },
     "metadata": {},
     "output_type": "display_data"
    }
   ],
   "source": [
    "#-------------- Importing data --------------\n",
    "\n",
    "#plotting all file in folder at the same time\n",
    "#data needs to end i x.csv where x is the starting oriantation\n",
    "\n",
    "test_data_folder = 'data/conway3/data/'\n",
    "data_files = [f for f in listdir(test_data_folder) if isfile(join(test_data_folder, f))]\n",
    "position_list = []\n",
    "drive_data = []\n",
    "\n",
    "#reading data from csv file\n",
    "for file in data_files:\n",
    "    position_list.append(file[:-4].split(\"+\"))\n",
    "    drive_data.append(np.genfromtxt(test_data_folder + file, delimiter=','))\n",
    "\n",
    "directions = {\"0\":0, \"270\":-math.pi/2, \"180\":math.pi, \"90\":math.pi/2}\n",
    "    \n",
    "def plot_data_interactive(A, R, M, O):\n",
    "    plt.cla()\n",
    "    for i in range(len(drive_data)):\n",
    "        data = update_position(drive_data[i],A, R, M,\n",
    "                               local_x_coordinat=float(position_list[i][0])*50, \n",
    "                               local_y_coordinat=float(position_list[i][1])*50, \n",
    "                               local_oriantation=(360 - float(position_list[i][2])) / 180 * math.pi)\n",
    "\n",
    "\n",
    "\n",
    "    #data = update_position(a, rot)\n",
    "        plt.plot(data[:,0], data[:,1])\n",
    "\n",
    "    plt.grid()\n",
    "    plt.axis(\"scaled\")\n",
    "    #plt.xlim((-300,300))\n",
    "    #plt.ylim((-300,300))\n",
    "    plt.show()\n",
    "    return()\n",
    "\n",
    "interact(plot_data_interactive, \n",
    "         A=widgets.FloatSlider(min=5, max=20, step=0.1, value=10.3, readout_format='.1f'), \n",
    "         R=widgets.FloatSlider(min=0.04, max=0.06, step=0.001, value=0.05, readout_format='.3f'), \n",
    "         O=widgets.FloatSlider(min=0, max=math.pi*2, step=0.001, value=0, readout_format='.3f'), \n",
    "         M=widgets.FloatSlider(min=0.99, max=1.03, step=0.001, value=1, readout_format='.3f'));\n"
   ]
  },
  {
   "cell_type": "code",
   "execution_count": null,
   "id": "337cf7f1-ecf8-4cee-bb2b-8d1c44a6d3c9",
   "metadata": {},
   "outputs": [],
   "source": []
  },
  {
   "cell_type": "code",
   "execution_count": null,
   "id": "36f1df46-63ef-46e0-8738-e566b5be81f2",
   "metadata": {},
   "outputs": [],
   "source": []
  }
 ],
 "metadata": {
  "kernelspec": {
   "display_name": "Python 3 (ipykernel)",
   "language": "python",
   "name": "python3"
  },
  "language_info": {
   "codemirror_mode": {
    "name": "ipython",
    "version": 3
   },
   "file_extension": ".py",
   "mimetype": "text/x-python",
   "name": "python",
   "nbconvert_exporter": "python",
   "pygments_lexer": "ipython3",
   "version": "3.11.8"
  }
 },
 "nbformat": 4,
 "nbformat_minor": 5
}
